{
 "cells": [
  {
   "cell_type": "code",
   "execution_count": 10,
   "metadata": {
    "collapsed": true
   },
   "outputs": [],
   "source": [
    "import numpy as np\n",
    "import scipy.stats\n",
    "from matplotlib import pyplot as plt\n",
    "import scipy.integrate\n",
    "import torch\n",
    "from utils import load_imdb\n",
    "import os, glob, zipfile\n",
    "import torch\n",
    "from torch.autograd import Variable\n",
    "from torchtext import data, datasets, vocab\n",
    "from torchtext.vocab import Vectors, GloVe\n",
    "\n",
    "# import jtplot\n",
    "from jupyterthemes import jtplot\n",
    "\n",
    "# you can select an alternative theme's plot style by name\n",
    "# oceans16 | grade3 | chesterish | onedork | monokai | solarizedl\n",
    "jtplot.style('onedork')\n",
    "\n",
    "# set \"context\" (paper, notebook, talk, or poster)\n",
    "# & font scale (scalar applied to labels, legend, etc.)\n",
    "jtplot.style('grade3', context='paper', fscale=1.4)\n",
    "\n",
    "# turn on X- and Y-axis tick marks (default=False)\n",
    "# and turn off the axis grid lines (default=True)\n",
    "jtplot.style(ticks=True, grid=False)\n",
    "\n",
    "# set the default figure size\n",
    "# x (length), y (height)\n",
    "jtplot.figsize(x=6., y=5.)\n",
    "\n",
    "# or just adjust the aspect ratio\n",
    "# new_length = length * aspect\n",
    "jtplot.figsize(aspect=1.2)"
   ]
  },
  {
   "cell_type": "markdown",
   "metadata": {},
   "source": [
    "### Problem 1b"
   ]
  },
  {
   "cell_type": "code",
   "execution_count": null,
   "metadata": {},
   "outputs": [],
   "source": [
    "def chi_density(x, D):\n",
    "    return 2*x*scipy.stats.chi2.pdf(x**2, D)\n",
    "\n",
    "x = np.linspace(0.1, 14, 1000)\n",
    "D_list = [1, 5, 10, 20, 40, 60, 80, 100]\n",
    "for i in D_list:\n",
    "    plt.plot(x, chi_density(x, i))\n",
    "    plt.xlim([0, 14])\n",
    "    plt.ylim([0, 0.8])\n",
    "    plt.title('Chi Distributions with Different Degrees of Freedom')\n",
    "    plt.xlabel('x')\n",
    "    plt.ylabel('Density')\n",
    "    plt.legend('top right', labels = ['D = ' + str(i) for i in D_list])\n",
    "plt.show()"
   ]
  },
  {
   "cell_type": "markdown",
   "metadata": {},
   "source": [
    "### Problem 1c"
   ]
  },
  {
   "cell_type": "code",
   "execution_count": null,
   "metadata": {},
   "outputs": [],
   "source": [
    "def chi_CDF(D, lower_end_point, upper_end_point):\n",
    "    return scipy.integrate.quad(chi_density, lower_end_point, upper_end_point, args = (D))\n",
    "\n",
    "x = np.linspace(0.1, 14, 1000)\n",
    "D = 100\n",
    "cdf_vals = np.zeros(len(x))\n",
    "for i in range(len(x)):\n",
    "    cdf_vals[i] = chi_CDF(D, 0.1, x[i])[0]\n",
    "\n",
    "plt.plot(x, cdf_vals)\n",
    "plt.xlim([0, 14])\n",
    "plt.ylim([0, 1.01])\n",
    "plt.title('Chi CDF when D = 100')\n",
    "plt.xlabel('x')\n",
    "plt.ylabel('P(X < x)')\n",
    "plt.show()"
   ]
  },
  {
   "cell_type": "markdown",
   "metadata": {},
   "source": [
    "### Problem 4"
   ]
  },
  {
   "cell_type": "code",
   "execution_count": 11,
   "metadata": {},
   "outputs": [
    {
     "name": "stdout",
     "output_type": "stream",
     "text": [
      "Loading Data\n"
     ]
    },
    {
     "name": "stderr",
     "output_type": "stream",
     "text": [
      ".vector_cache\\glove.6B.zip: 862MB [24:26, 588KB/s]                                                                     \n",
      "100%|████████████████████████████████████████████████████████████████████████| 400000/400000 [01:29<00:00, 4471.95it/s]\n"
     ]
    },
    {
     "name": "stdout",
     "output_type": "stream",
     "text": [
      "0\n",
      "0\n"
     ]
    }
   ],
   "source": [
    "train_iter, val_iter, test_iter, text_field = load_imdb(imdb_path='imdb.zip', imdb_dir='\\imdb', batch_size=100, gpu=True, reuse=True,\\\n",
    "                                                        repeat=False, shuffle=True)"
   ]
  }
 ],
 "metadata": {
  "kernelspec": {
   "display_name": "Python 3.5.3",
   "language": "python",
   "name": "py35"
  },
  "language_info": {
   "codemirror_mode": {
    "name": "ipython",
    "version": 3
   },
   "file_extension": ".py",
   "mimetype": "text/x-python",
   "name": "python",
   "nbconvert_exporter": "python",
   "pygments_lexer": "ipython3",
   "version": "3.5.4"
  }
 },
 "nbformat": 4,
 "nbformat_minor": 2
}
