{
 "cells": [
  {
   "cell_type": "code",
   "execution_count": 1,
   "metadata": {
    "collapsed": true
   },
   "outputs": [],
   "source": [
    "import torch\n",
    "from torch.autograd import Variable\n",
    "import numpy as np\n",
    "from matplotlib import pyplot as plt\n",
    "from sklearn.feature_extraction.text import CountVectorizer\n",
    "from scipy.stats import norm\n",
    "import itertools\n",
    "from utils import load_jester\n",
    "from utils import NormLogCDF\n",
    "\n",
    "# import jtplot\n",
    "from jupyterthemes import jtplot\n",
    "\n",
    "# you can select an alternative theme's plot style by name\n",
    "# oceans16 | grade3 | chesterish | onedork | monokai | solarizedl\n",
    "jtplot.style('onedork')\n",
    "\n",
    "# set \"context\" (paper, notebook, talk, or poster)\n",
    "# & font scale (scalar applied to labels, legend, etc.)\n",
    "jtplot.style('grade3', context='paper', fscale=1.4)\n",
    "\n",
    "# turn on X- and Y-axis tick marks (default=False)\n",
    "# and turn off the axis grid lines (default=True)\n",
    "jtplot.style(ticks=True, grid=False)\n",
    "\n",
    "# set the default figure size\n",
    "# x (length), y (height)\n",
    "jtplot.figsize(x=6., y=5.)\n",
    "\n",
    "# or just adjust the aspect ratio\n",
    "# new_length = length * aspect\n",
    "jtplot.figsize(aspect=1.2)"
   ]
  },
  {
   "cell_type": "markdown",
   "metadata": {},
   "source": [
    "### Problem 1"
   ]
  },
  {
   "cell_type": "code",
   "execution_count": 233,
   "metadata": {
    "collapsed": true
   },
   "outputs": [],
   "source": [
    "w = Variable(torch.from_numpy(np.array([2, -2, -2, -8, -2, 3, -2, 1]).reshape(8, -1)).double(), requires_grad = True)\n",
    "edges = Variable(torch.from_numpy(np.array([[0, 0, 0, 0, 0, 0, 0, 0], \\\n",
    "                                            [0, 0, 0, 0, 0, 1, 0, 0], \\\n",
    "                                            [0, 0, 0, 0, 0, 1, 0, 0], \\\n",
    "                                            [0, 0, 0, 0, 1, 1, 1, 1], \\\n",
    "                                            [0, 0, 0, 1, 0, 0, 0, 0], \\\n",
    "                                            [0, 1, 1, 1, 0, 0, 0, 0], \\\n",
    "                                            [0, 0, 0, 1, 0, 0, 0, 0], \\\n",
    "                                            [0, 0, 0, 1, 0, 0, 0, 0]])).double())"
   ]
  },
  {
   "cell_type": "code",
   "execution_count": 234,
   "metadata": {
    "collapsed": true
   },
   "outputs": [],
   "source": [
    "def global_score(w, edges, seen_ind):\n",
    "    return torch.exp(torch.mm(torch.transpose(w, 0, 1), seen_ind) + torch.mm(torch.transpose(seen_ind, 0, 1), torch.mm(edges, seen_ind)))"
   ]
  },
  {
   "cell_type": "code",
   "execution_count": 235,
   "metadata": {},
   "outputs": [
    {
     "data": {
      "text/plain": [
       "Variable containing:\n",
       " 148.4132\n",
       "[torch.DoubleTensor of size 1x1]"
      ]
     },
     "execution_count": 235,
     "metadata": {},
     "output_type": "execute_result"
    }
   ],
   "source": [
    "seen_ind = Variable(torch.from_numpy(np.array([1, 0, 0, 0, 0, 1, 0, 0]).reshape(w.size()[0], -1)).double())\n",
    "global_score(w, edges, seen_ind)"
   ]
  },
  {
   "cell_type": "code",
   "execution_count": 236,
   "metadata": {
    "collapsed": true
   },
   "outputs": [],
   "source": [
    "def log_partition(w, edges):\n",
    "    all_possibilities = itertools.product([0, 1], repeat = 8)\n",
    "    sum_over_scores = Variable(torch.zeros(1).double())\n",
    "    for i in all_possibilities:\n",
    "        possibility = Variable(torch.from_numpy(np.array(i).reshape(len(i), -1)).double())\n",
    "        sum_over_scores = torch.add(sum_over_scores, global_score(w, edges, possibility))\n",
    "        \n",
    "    return torch.log(sum_over_scores)"
   ]
  },
  {
   "cell_type": "code",
   "execution_count": 237,
   "metadata": {},
   "outputs": [
    {
     "name": "stdout",
     "output_type": "stream",
     "text": [
      "Variable containing:\n",
      " 3423.3716\n",
      "[torch.DoubleTensor of size 1x1]\n",
      "\n",
      "Variable containing:\n",
      "1.00000e-02 *\n",
      "  4.3353\n",
      "[torch.DoubleTensor of size 1x1]\n",
      "\n"
     ]
    }
   ],
   "source": [
    "sum_over_universe = log_partition(w, edges)\n",
    "score = global_score(w, edges, seen_ind)\n",
    "print(torch.exp(sum_over_universe))\n",
    "print(score/torch.exp(sum_over_universe))"
   ]
  },
  {
   "cell_type": "code",
   "execution_count": 239,
   "metadata": {},
   "outputs": [
    {
     "data": {
      "text/plain": [
       "Variable containing:\n",
       " 0.9848\n",
       "[torch.DoubleTensor of size 1x1]"
      ]
     },
     "execution_count": 239,
     "metadata": {},
     "output_type": "execute_result"
    }
   ],
   "source": [
    "def get_marginal(marginal, w, edges):\n",
    "    all_possibilities = itertools.product([0, 1], repeat = 8)\n",
    "    sum_scores = Variable(torch.zeros(1).double())\n",
    "    for i in all_possibilities:\n",
    "        seen_ind = Variable(torch.from_numpy(np.array(i).reshape(len(i), -1)).double())\n",
    "        if seen_ind[marginal].data.numpy()[0] == 1:\n",
    "            sum_scores = torch.add(sum_scores, global_score(w, edges, seen_ind))\n",
    "            \n",
    "    return sum_scores/torch.exp(sum_over_universe)\n",
    "\n",
    "get_marginal(5, w, edges)"
   ]
  },
  {
   "cell_type": "code",
   "execution_count": 240,
   "metadata": {},
   "outputs": [
    {
     "data": {
      "text/plain": [
       "Variable containing:\n",
       " 0.8808\n",
       " 0.4942\n",
       " 0.4942\n",
       " 0.0412\n",
       " 0.1349\n",
       " 0.9848\n",
       " 0.1349\n",
       " 0.7402\n",
       "[torch.DoubleTensor of size 8x1]"
      ]
     },
     "execution_count": 240,
     "metadata": {},
     "output_type": "execute_result"
    }
   ],
   "source": [
    "log_part = log_partition(w, edges)\n",
    "log_part.backward()\n",
    "w.grad"
   ]
  },
  {
   "cell_type": "code",
   "execution_count": 241,
   "metadata": {},
   "outputs": [
    {
     "name": "stdout",
     "output_type": "stream",
     "text": [
      "Marginals: [ 0.88079708  0.49420107  0.49420107  0.04124983  0.13491074  0.9847716\n",
      "  0.13491074  0.74019606]\n"
     ]
    }
   ],
   "source": [
    "up_exp = np.exp([2, -2, -2, -8, -2, 3, -2, 1])\n",
    "bp_exp = np.exp(2)\n",
    "root = 2\n",
    "edges = [[2, 5], [5, 1, 3], [3, 7, 4, 6]]\n",
    "leaves = np.array([0, 1, 4, 6, 7])\n",
    "\n",
    "upwards_bel = np.zeros((len(up_exp), 2))\n",
    "bel = np.zeros((len(up_exp), 2))\n",
    "upwards_msg = np.zeros((len(up_exp), 2))\n",
    "downwards_msg = np.zeros((len(up_exp), 2))\n",
    "\n",
    "for i in leaves: \n",
    "    upwards_bel[i, 0] = 1\n",
    "    upwards_bel[i, 1] = up_exp[i]\n",
    "\n",
    "for i in np.flip(edges, axis = 0): \n",
    "    parent = i[0]\n",
    "    child = i[1:]\n",
    "\n",
    "    for k in child: \n",
    "        upwards_msg[k, 0] = np.sum(upwards_bel[k,:])\n",
    "        upwards_msg[k, 1] = upwards_bel[k, 0] + bp_exp * upwards_bel[k, 1]\n",
    "\n",
    "    upwards_bel[parent, 0] = np.prod(upwards_msg[child, 0])\n",
    "    upwards_bel[parent, 1] = up_exp[parent] * np.prod(upwards_msg[child, 1])\n",
    "    \n",
    "bel[root, :] = upwards_bel[root, :]\n",
    "bel[0, :] = upwards_bel[0, :]\n",
    "        \n",
    "for i in edges: \n",
    "    parent = i[0]\n",
    "    child = i[1:]\n",
    "    for k in child: \n",
    "\n",
    "        downwards_msg[k, 0] = np.sum(bel[parent, :] / upwards_msg[k, :])\n",
    "        downwards_msg[k, 1] = bel[parent, 0] / upwards_msg[k, 0] + bp_exp * bel[parent, 1] / upwards_msg[k, 1]\n",
    "\n",
    "        bel[k, 0] = upwards_bel[k, 0] * downwards_msg[k, 0]\n",
    "        bel[k, 1] = upwards_bel[k, 1] * downwards_msg[k, 1]\n",
    "\n",
    "normalized_bel = np.divide(bel, (bel[:, 0] + bel[:, 1]).reshape(len((bel[:, 0] + bel[:, 1])), -1))\n",
    "print('Marginals: ' + str(normalized_bel[:, 1]))        "
   ]
  },
  {
   "cell_type": "markdown",
   "metadata": {},
   "source": [
    "### Problem 2"
   ]
  },
  {
   "cell_type": "markdown",
   "metadata": {},
   "source": [
    "### Data Setup"
   ]
  },
  {
   "cell_type": "code",
   "execution_count": 2,
   "metadata": {
    "collapsed": true
   },
   "outputs": [],
   "source": [
    "user_joke_rating = []\n",
    "for line in open('jester_ratings.dat', 'r'):\n",
    "    user_joke_rating_string = line.rstrip()\n",
    "    user_joke_rating_floats = np.array(user_joke_rating_string.split(' ')).astype(np.float64)\n",
    "    user_joke_rating.append(user_joke_rating_floats)\n",
    "    \n",
    "user_joke_rating = np.array(user_joke_rating)\n",
    "highest_user = int(np.max(user_joke_rating[:, 0]))\n",
    "num_jokes = int(np.max(user_joke_rating[:, 1]))"
   ]
  },
  {
   "cell_type": "code",
   "execution_count": 3,
   "metadata": {},
   "outputs": [
    {
     "name": "stdout",
     "output_type": "stream",
     "text": [
      "Loading Data, this might take several minutes\n",
      "0 lines read\n",
      "100000 lines read\n",
      "200000 lines read\n",
      "300000 lines read\n",
      "400000 lines read\n",
      "500000 lines read\n",
      "600000 lines read\n",
      "700000 lines read\n",
      "800000 lines read\n",
      "900000 lines read\n",
      "1000000 lines read\n",
      "1100000 lines read\n",
      "1200000 lines read\n",
      "1300000 lines read\n",
      "1400000 lines read\n",
      "1500000 lines read\n",
      "1600000 lines read\n",
      "1700000 lines read\n",
      "Data Loaded\n"
     ]
    }
   ],
   "source": [
    "batch_size = 3000\n",
    "train_iter, val_iter, test_iter, text_field = load_jester(ratings_path='jester_ratings.dat.gz', jokes_path='jester_items.clean.dat.gz', subsample_rate=1.0, batch_size=batch_size, \\\n",
    "                                                          gpu=False, repeat=False, shuffle=True)"
   ]
  },
  {
   "cell_type": "markdown",
   "metadata": {},
   "source": [
    "### Problem 2 Functions"
   ]
  },
  {
   "cell_type": "code",
   "execution_count": 4,
   "metadata": {
    "collapsed": true
   },
   "outputs": [],
   "source": [
    "def neg_log_likelihood(sigma2, U, V, users, jokes, ratings):\n",
    "    constant = Variable((torch.ones(1) * np.log((2*np.pi*sigma2)**0.5)).double())\n",
    "    multiplier = Variable((torch.ones(1) * (2*sigma2)**(-1.0)).double())\n",
    "    return constant + multiplier * torch.sum((ratings.double() - torch.mm(U, torch.transpose(V, 0, 1))[users.data, jokes.data])**2)\n",
    "\n",
    "def neg_log_likelihood_biases(sigma2, U, V, a, b, g, users, jokes, ratings):\n",
    "    constant = Variable((torch.ones(1) * np.log((2*np.pi*sigma2)**0.5)).double())\n",
    "    multiplier = Variable((torch.ones(1) * (2*sigma2)**(-1.0)).double())\n",
    "    return constant + multiplier * torch.sum((ratings.double() - torch.mm(U, torch.transpose(V, 0, 1))[users.data, jokes.data] - a[users.data] - b[jokes.data] - g)**2)\n",
    "\n",
    "def rmse(U, V, data_iter):\n",
    "    squared_error = 0.0\n",
    "    num_ratings = 0\n",
    "    for batch in data_iter:\n",
    "        ratings = batch.ratings \n",
    "        users = batch.users-1 \n",
    "        jokes = batch.jokes-1\n",
    "        \n",
    "        num_ratings += ratings.size()[0]\n",
    "        squared_error += torch.sum((ratings.double() - torch.mm(U, torch.transpose(V, 0, 1))[users.data, jokes.data])**2)\n",
    "        \n",
    "    return ((squared_error/num_ratings)**0.5).data.numpy()[0]"
   ]
  },
  {
   "cell_type": "markdown",
   "metadata": {},
   "source": [
    "### Problem 2c"
   ]
  },
  {
   "cell_type": "code",
   "execution_count": 231,
   "metadata": {
    "scrolled": true
   },
   "outputs": [
    {
     "name": "stdout",
     "output_type": "stream",
     "text": [
      "Manual gradient with respect to A:\n",
      "[[  1.   1.]\n",
      " [ 12.  12.]\n",
      " [ 18.  18.]]\n",
      "\n",
      "Autograd gradient with respect to A:\n",
      "Variable containing:\n",
      "  1   1\n",
      " 12  12\n",
      " 18  18\n",
      "[torch.DoubleTensor of size 3x2]\n",
      "\n",
      "\n",
      "Manual gradient with respect to B:\n",
      "[[  1.   1.]\n",
      " [ 39.  39.]]\n",
      "\n",
      "Autograd gradient with respect to B:\n",
      "Variable containing:\n",
      "  1   1\n",
      " 39  39\n",
      "[torch.DoubleTensor of size 2x2]\n",
      "\n"
     ]
    }
   ],
   "source": [
    "# Toy example to do manual calculation of gradients\n",
    "A = Variable(torch.from_numpy(np.array([[1, 1], [2, 2], [3, 3]])).double(), requires_grad = True)\n",
    "B = Variable(torch.from_numpy(np.array([[1, 1], [2, 2]])).double(), requires_grad = True)\n",
    "person_ids = Variable(torch.from_numpy(np.array([0, 1, 2])).long(), requires_grad = True)\n",
    "song_ids = Variable(torch.from_numpy(np.array([0, 1, 1])).long(), requires_grad = True)\n",
    "rate = Variable(torch.from_numpy(np.array([1, 2, 3])).long())\n",
    "sigma2 = 1.0\n",
    "\n",
    "neg_log_lik = neg_log_likelihood(sigma2, A, B, person_ids, song_ids, rate)\n",
    "neg_log_lik.backward()\n",
    "\n",
    "A_num = A.data.numpy()\n",
    "B_num = B.data.numpy()\n",
    "rate_matrix = np.array([[1, 0], [0, 2], [0, 3]])\n",
    "mult = (-torch.ones(1) * (sigma2)**(-1.0)).numpy()\n",
    "\n",
    "a1_grad = mult * (rate_matrix[0, 0] - A_num[0].reshape(-1, A_num.shape[1]).dot(B_num[0].reshape(B_num.shape[1], -1))) * B_num[0]\n",
    "a2_grad = mult * (rate_matrix[1, 1] - A_num[1].reshape(-1, A_num.shape[1]).dot(B_num[1].reshape(B_num.shape[1], -1))) * B_num[1]\n",
    "a3_grad = mult * (rate_matrix[2, 1] - A_num[2].reshape(-1, A_num.shape[1]).dot(B_num[1].reshape(B_num.shape[1], -1))) * B_num[1]\n",
    "A_grad = np.concatenate([a1_grad, a2_grad, a3_grad], axis = 0)\n",
    "\n",
    "b1_grad = mult * (rate_matrix[0, 0] - A_num[0].reshape(-1, A_num.shape[1]).dot(B_num[0].reshape(B_num.shape[1], -1))) * A_num[0]\n",
    "b2_grad = mult * ((rate_matrix[1, 1] - A_num[1].reshape(-1, A_num.shape[1]).dot(B_num[1].reshape(B_num.shape[1], -1))) * A_num[1] +\\\n",
    "                   (rate_matrix[2, 1] - A_num[2].reshape(-1, A_num.shape[1]).dot(B_num[1].reshape(B_num.shape[1], -1))) * A_num[2])\n",
    "B_grad = np.concatenate([b1_grad, b2_grad], axis = 0)\n",
    "\n",
    "print('Manual gradient with respect to A:\\n' + str(A_grad))\n",
    "print()\n",
    "print('Autograd gradient with respect to A:\\n' + str(A.grad))\n",
    "print()\n",
    "print('Manual gradient with respect to B:\\n' + str(B_grad))\n",
    "print()\n",
    "print('Autograd gradient with respect to B:\\n' + str(B.grad))"
   ]
  },
  {
   "cell_type": "markdown",
   "metadata": {},
   "source": [
    "### Problem 2d"
   ]
  },
  {
   "cell_type": "code",
   "execution_count": 210,
   "metadata": {
    "collapsed": true
   },
   "outputs": [
    {
     "name": "stdout",
     "output_type": "stream",
     "text": [
      "Epoch 0\n",
      "Batch number 100\n",
      "Batch number 200\n",
      "Batch number 300\n",
      "Batch number 400\n",
      "Batch number 500\n",
      "Epoch 1\n",
      "Batch number 100\n",
      "Batch number 200\n",
      "Batch number 300\n",
      "Batch number 400\n",
      "Batch number 500\n",
      "Epoch 2\n",
      "Batch number 100\n",
      "Batch number 200\n",
      "Batch number 300\n",
      "Batch number 400\n",
      "Batch number 500\n",
      "Epoch 3\n",
      "Batch number 100\n",
      "Batch number 200\n",
      "Batch number 300\n",
      "Batch number 400\n",
      "Batch number 500\n",
      "Epoch 4\n",
      "Batch number 100\n",
      "Batch number 200\n",
      "Batch number 300\n",
      "Batch number 400\n",
      "Batch number 500\n",
      "Sigma squared MLE = 1.04658868677\n",
      "Train RMSE: 1.023029172\n",
      "Val RMSE: 1.03897252666\n"
     ]
    }
   ],
   "source": [
    "# batch size 3000\n",
    "K = 9\n",
    "sigma2 = 1.0\n",
    "num_epochs = 5\n",
    "#U = Variable(torch.from_numpy(np.random.rand(highest_user, K).reshape(highest_user, K)), requires_grad = True)\n",
    "#V = Variable(torch.from_numpy(np.random.rand(num_jokes, K).reshape(num_jokes, K)), requires_grad = True)\n",
    "#optimizer = torch.optim.SGD([U, V], lr = 0.0004)\n",
    "\n",
    "for epoch in range(num_epochs):\n",
    "    print('Epoch ' + str(epoch))\n",
    "    batch_num = 0\n",
    "    for batch in train_iter:\n",
    "        batch_num += 1\n",
    "        if batch_num % 100 == 0:\n",
    "            print('Batch number ' + str(batch_num))\n",
    "\n",
    "        ratings = batch.ratings\n",
    "        users = batch.users-1 \n",
    "        jokes = batch.jokes-1\n",
    "\n",
    "        optimizer.zero_grad()\n",
    "        loss = neg_log_likelihood(sigma2, U, V, users, jokes, ratings)\n",
    "        loss.backward()\n",
    "        #print(loss.data[0])\n",
    "        optimizer.step()\n",
    "        \n",
    "\n",
    "train_rmse_k = rmse(U, V, train_iter)\n",
    "val_rmse_k = rmse(U, V, val_iter)\n",
    "\n",
    "sigma2_mle = train_rmse_k**2\n",
    "\n",
    "print('Sigma squared MLE = ' + str(sigma2_mle))\n",
    "print('Train RMSE: ' + str(train_rmse_k))\n",
    "print('Val RMSE: ' + str(val_rmse_k))"
   ]
  },
  {
   "cell_type": "markdown",
   "metadata": {},
   "source": [
    "### Problem 2e"
   ]
  },
  {
   "cell_type": "code",
   "execution_count": null,
   "metadata": {
    "collapsed": true,
    "scrolled": true
   },
   "outputs": [],
   "source": [
    "sigma2 = 1.0\n",
    "K = np.arange(10)\n",
    "optimizer = torch.optim.SGD([U, V], lr = 0.0005)\n",
    "num_epochs = 10\n",
    "train_rmse = []\n",
    "val_rmse = []\n",
    "\n",
    "for k in K:\n",
    "    print('K = ' + str(k+1))\n",
    "    U = Variable(torch.from_numpy(np.random.rand(highest_user, k+1).reshape(highest_user, k+1)), requires_grad = True)\n",
    "    V = Variable(torch.from_numpy(np.random.rand(num_jokes, k+1).reshape(num_jokes, k+1)), requires_grad = True)\n",
    "    \n",
    "    for epoch in range(num_epochs):\n",
    "        print('Epoch ' + str(epoch))\n",
    "        batch_num = 0\n",
    "        for batch in train_iter:\n",
    "            batch_num += 1\n",
    "            if batch_num % 100 == 0:\n",
    "                print('Batch number ' + str(batch_num))\n",
    "\n",
    "            ratings = batch.ratings \n",
    "            users = batch.users-1 \n",
    "            jokes = batch.jokes-1\n",
    "\n",
    "            optimizer.zero_grad()\n",
    "            loss = neg_log_likelihood(sigma2, U, V, users, jokes, ratings)\n",
    "            loss.backward()\n",
    "            print(loss.data[0])\n",
    "            optimizer.step()\n",
    "            \n",
    "    train_rmse_k = rmse(U, V, train_iter)\n",
    "    val_rmse_k = rmse(U, V, val_iter)\n",
    "    \n",
    "    print('Train RMSE: ' + str(train_rmse_k))\n",
    "    print('Val RMSE: ' + str(val_rmse_k))\n",
    "    \n",
    "    train_rmse.append(train_rmse_k)\n",
    "    val_rmse.append(val_rmse_k)"
   ]
  },
  {
   "cell_type": "code",
   "execution_count": 225,
   "metadata": {},
   "outputs": [],
   "source": [
    "[1.1039178662337159, 1.1282048470046748] #lr = 0.0008, batch_size=3000, k=1\n",
    "[1.0573551910309043, 1.0920181002235005] #lr = 0.0008, batch_size=3000, k=2\n",
    "[1.04716172563, 1.06281632165] #lr = 0.0008, batch_size=3000, k=3\n",
    "[1.04378780926, 1.05934880586] #lr = 0.0005, batch_size=3000, k=4\n",
    "[1.04299195183, 1.05527209921] #lr = 0.0005, batch_size=3000, k=5\n",
    "[1.03386666602, 1.04849306749] #lr = 0.0005, batch_size=3000, k=6\n",
    "[1.03170220691, 1.04641087284] #lr = 0.0005, batch_size=3000, k=7\n",
    "[1.02506414753, 1.04296469044] #lr = 0.0005, batch_size=3000, k=8\n",
    "[1.023029172, 1.03897252666] #lr = 0.0004, batch_size=3000, k=9\n",
    "[1.021032441, 1.03527865811] #lr = 0.0004, batch_size=3000, k=10\n",
    "\n",
    "K = np.arange(1, 11)\n",
    "train_rmse = [1.1039178662337159, 1.0573551910309043, 1.04716172563, 1.04378780926, 1.04299195183, 1.03386666602, 1.03170220691, 1.02506414753, 1.023029172, 1.021032441]\n",
    "val_rmse = [1.1282048470046748, 1.0920181002235005, 1.06281632165, 1.05934880586, 1.05527209921, 1.04849306749, 1.04641087284, 1.04296469044, 1.03897252666, 1.03527865811]"
   ]
  },
  {
   "cell_type": "code",
   "execution_count": 227,
   "metadata": {},
   "outputs": [
    {
     "name": "stderr",
     "output_type": "stream",
     "text": [
      "C:\\Users\\Christopher\\Anaconda3\\envs\\py35\\lib\\site-packages\\matplotlib\\figure.py:1743: UserWarning: This figure includes Axes that are not compatible with tight_layout, so its results might be incorrect.\n",
      "  warnings.warn(\"This figure includes Axes that are not \"\n"
     ]
    },
    {
     "data": {
      "image/png": "[encoded data removed]",
      "text/plain": [
       "<matplotlib.figure.Figure at 0x26bd96f7668>"
      ]
     },
     "metadata": {},
     "output_type": "display_data"
    }
   ],
   "source": [
    "plt.plot(K, train_rmse, 'ro')\n",
    "plt.plot(K, val_rmse, 'bo')\n",
    "plt.xlabel('K')\n",
    "plt.ylabel('RMSE')\n",
    "plt.title('RMSE vs. K for Training and Validation Data')\n",
    "plt.legend(labels = ['Training', 'Validation'])\n",
    "plt.show()"
   ]
  },
  {
   "cell_type": "markdown",
   "metadata": {},
   "source": [
    "### Problem 2f"
   ]
  },
  {
   "cell_type": "code",
   "execution_count": 232,
   "metadata": {
    "collapsed": true
   },
   "outputs": [
    {
     "name": "stdout",
     "output_type": "stream",
     "text": [
      "Epoch 0\n",
      "Batch number 100\n",
      "Batch number 200\n",
      "Batch number 300\n",
      "Batch number 400\n",
      "Batch number 500\n",
      "Epoch 1\n",
      "Batch number 100\n",
      "Batch number 200\n",
      "Batch number 300\n",
      "Batch number 400\n",
      "Batch number 500\n",
      "Epoch 2\n",
      "Batch number 100\n",
      "Batch number 200\n",
      "Batch number 300\n",
      "Batch number 400\n",
      "Batch number 500\n",
      "Epoch 3\n",
      "Batch number 100\n",
      "Batch number 200\n",
      "Batch number 300\n",
      "Batch number 400\n",
      "Batch number 500\n",
      "Epoch 4\n",
      "Batch number 100\n",
      "Batch number 200\n",
      "Batch number 300\n",
      "Batch number 400\n",
      "Batch number 500\n",
      "Epoch 5\n",
      "Batch number 100\n",
      "Batch number 200\n",
      "Batch number 300\n",
      "Batch number 400\n",
      "Batch number 500\n",
      "Epoch 6\n"
     ]
    },
    {
     "ename": "KeyboardInterrupt",
     "evalue": "",
     "output_type": "error",
     "traceback": [
      "\u001b[1;31m---------------------------------------------------------------------------\u001b[0m",
      "\u001b[1;31mKeyboardInterrupt\u001b[0m                         Traceback (most recent call last)",
      "\u001b[1;32m<ipython-input-232-5599352d1483>\u001b[0m in \u001b[0;36m<module>\u001b[1;34m()\u001b[0m\n\u001b[0;32m     13\u001b[0m     \u001b[0mprint\u001b[0m\u001b[1;33m(\u001b[0m\u001b[1;34m'Epoch '\u001b[0m \u001b[1;33m+\u001b[0m \u001b[0mstr\u001b[0m\u001b[1;33m(\u001b[0m\u001b[0mepoch\u001b[0m\u001b[1;33m)\u001b[0m\u001b[1;33m)\u001b[0m\u001b[1;33m\u001b[0m\u001b[0m\n\u001b[0;32m     14\u001b[0m     \u001b[0mbatch_num\u001b[0m \u001b[1;33m=\u001b[0m \u001b[1;36m0\u001b[0m\u001b[1;33m\u001b[0m\u001b[0m\n\u001b[1;32m---> 15\u001b[1;33m     \u001b[1;32mfor\u001b[0m \u001b[0mbatch\u001b[0m \u001b[1;32min\u001b[0m \u001b[0mtrain_iter\u001b[0m\u001b[1;33m:\u001b[0m\u001b[1;33m\u001b[0m\u001b[0m\n\u001b[0m\u001b[0;32m     16\u001b[0m         \u001b[0mbatch_num\u001b[0m \u001b[1;33m+=\u001b[0m \u001b[1;36m1\u001b[0m\u001b[1;33m\u001b[0m\u001b[0m\n\u001b[0;32m     17\u001b[0m         \u001b[1;32mif\u001b[0m \u001b[0mbatch_num\u001b[0m \u001b[1;33m%\u001b[0m \u001b[1;36m100\u001b[0m \u001b[1;33m==\u001b[0m \u001b[1;36m0\u001b[0m\u001b[1;33m:\u001b[0m\u001b[1;33m\u001b[0m\u001b[0m\n",
      "\u001b[1;32m~\\Anaconda3\\envs\\py35\\lib\\site-packages\\torchtext\\data\\iterator.py\u001b[0m in \u001b[0;36m__iter__\u001b[1;34m(self)\u001b[0m\n\u001b[0;32m    162\u001b[0m                 \u001b[0mminibatch\u001b[0m\u001b[1;33m.\u001b[0m\u001b[0mreverse\u001b[0m\u001b[1;33m(\u001b[0m\u001b[1;33m)\u001b[0m\u001b[1;33m\u001b[0m\u001b[0m\n\u001b[0;32m    163\u001b[0m                 yield Batch(minibatch, self.dataset, self.device,\n\u001b[1;32m--> 164\u001b[1;33m                             self.train)\n\u001b[0m\u001b[0;32m    165\u001b[0m             \u001b[1;32mif\u001b[0m \u001b[1;32mnot\u001b[0m \u001b[0mself\u001b[0m\u001b[1;33m.\u001b[0m\u001b[0mrepeat\u001b[0m\u001b[1;33m:\u001b[0m\u001b[1;33m\u001b[0m\u001b[0m\n\u001b[0;32m    166\u001b[0m                 \u001b[1;32mraise\u001b[0m \u001b[0mStopIteration\u001b[0m\u001b[1;33m\u001b[0m\u001b[0m\n",
      "\u001b[1;32m~\\Anaconda3\\envs\\py35\\lib\\site-packages\\torchtext\\data\\batch.py\u001b[0m in \u001b[0;36m__init__\u001b[1;34m(self, data, dataset, device, train)\u001b[0m\n\u001b[0;32m     20\u001b[0m                 \u001b[1;32mif\u001b[0m \u001b[0mfield\u001b[0m \u001b[1;32mis\u001b[0m \u001b[1;32mnot\u001b[0m \u001b[1;32mNone\u001b[0m\u001b[1;33m:\u001b[0m\u001b[1;33m\u001b[0m\u001b[0m\n\u001b[0;32m     21\u001b[0m                     setattr(self, name, field.numericalize(\n\u001b[1;32m---> 22\u001b[1;33m                         \u001b[0mfield\u001b[0m\u001b[1;33m.\u001b[0m\u001b[0mpad\u001b[0m\u001b[1;33m(\u001b[0m\u001b[0mx\u001b[0m\u001b[1;33m.\u001b[0m\u001b[0m__dict__\u001b[0m\u001b[1;33m[\u001b[0m\u001b[0mname\u001b[0m\u001b[1;33m]\u001b[0m \u001b[1;32mfor\u001b[0m \u001b[0mx\u001b[0m \u001b[1;32min\u001b[0m \u001b[0mdata\u001b[0m\u001b[1;33m)\u001b[0m\u001b[1;33m,\u001b[0m\u001b[1;33m\u001b[0m\u001b[0m\n\u001b[0m\u001b[0;32m     23\u001b[0m                         device=device, train=train))\n\u001b[0;32m     24\u001b[0m \u001b[1;33m\u001b[0m\u001b[0m\n",
      "\u001b[1;32m~\\Anaconda3\\envs\\py35\\lib\\site-packages\\torchtext\\data\\field.py\u001b[0m in \u001b[0;36mpad\u001b[1;34m(self, minibatch)\u001b[0m\n\u001b[0;32m    120\u001b[0m                 \u001b[0mlist\u001b[0m\u001b[1;33m(\u001b[0m\u001b[0mx\u001b[0m\u001b[1;33m[\u001b[0m\u001b[1;33m:\u001b[0m\u001b[0mmax_len\u001b[0m\u001b[1;33m]\u001b[0m\u001b[1;33m)\u001b[0m \u001b[1;33m+\u001b[0m\u001b[1;33m\u001b[0m\u001b[0m\n\u001b[0;32m    121\u001b[0m                 \u001b[1;33m(\u001b[0m\u001b[1;33m[\u001b[0m\u001b[1;33m]\u001b[0m \u001b[1;32mif\u001b[0m \u001b[0mself\u001b[0m\u001b[1;33m.\u001b[0m\u001b[0meos_token\u001b[0m \u001b[1;32mis\u001b[0m \u001b[1;32mNone\u001b[0m \u001b[1;32melse\u001b[0m \u001b[1;33m[\u001b[0m\u001b[0mself\u001b[0m\u001b[1;33m.\u001b[0m\u001b[0meos_token\u001b[0m\u001b[1;33m]\u001b[0m\u001b[1;33m)\u001b[0m \u001b[1;33m+\u001b[0m\u001b[1;33m\u001b[0m\u001b[0m\n\u001b[1;32m--> 122\u001b[1;33m                 [self.pad_token] * max(0, max_len - len(x)))\n\u001b[0m\u001b[0;32m    123\u001b[0m             \u001b[0mlengths\u001b[0m\u001b[1;33m.\u001b[0m\u001b[0mappend\u001b[0m\u001b[1;33m(\u001b[0m\u001b[0mlen\u001b[0m\u001b[1;33m(\u001b[0m\u001b[0mpadded\u001b[0m\u001b[1;33m[\u001b[0m\u001b[1;33m-\u001b[0m\u001b[1;36m1\u001b[0m\u001b[1;33m]\u001b[0m\u001b[1;33m)\u001b[0m \u001b[1;33m-\u001b[0m \u001b[0mmax\u001b[0m\u001b[1;33m(\u001b[0m\u001b[1;36m0\u001b[0m\u001b[1;33m,\u001b[0m \u001b[0mmax_len\u001b[0m \u001b[1;33m-\u001b[0m \u001b[0mlen\u001b[0m\u001b[1;33m(\u001b[0m\u001b[0mx\u001b[0m\u001b[1;33m)\u001b[0m\u001b[1;33m)\u001b[0m\u001b[1;33m)\u001b[0m\u001b[1;33m\u001b[0m\u001b[0m\n\u001b[0;32m    124\u001b[0m         \u001b[1;32mif\u001b[0m \u001b[0mself\u001b[0m\u001b[1;33m.\u001b[0m\u001b[0minclude_lengths\u001b[0m\u001b[1;33m:\u001b[0m\u001b[1;33m\u001b[0m\u001b[0m\n",
      "\u001b[1;31mKeyboardInterrupt\u001b[0m: "
     ]
    }
   ],
   "source": [
    "# batch size 1000\n",
    "K = 2\n",
    "sigma2 = 1.0\n",
    "num_epochs = 7\n",
    "U = Variable(torch.from_numpy(0.1 * np.random.randn(highest_user, K).reshape(highest_user, K)), requires_grad = True)\n",
    "V = Variable(torch.from_numpy(0.1 * np.random.randn(num_jokes, K).reshape(num_jokes, K)), requires_grad = True)\n",
    "a = Variable(torch.from_numpy(0.1 * np.random.randn(highest_user).reshape(highest_user, -1)), requires_grad = True)\n",
    "b = Variable(torch.from_numpy(0.1 * np.random.randn(num_jokes).reshape(num_jokes, -1)), requires_grad = True)\n",
    "g = Variable(torch.ones(1).double() * 3, requires_grad = True)\n",
    "optimizer = torch.optim.Adam([U, V, a, b, g], lr = 0.05)\n",
    "\n",
    "for epoch in range(num_epochs):\n",
    "    print('Epoch ' + str(epoch))\n",
    "    batch_num = 0\n",
    "    for batch in train_iter:\n",
    "        batch_num += 1\n",
    "        if batch_num % 100 == 0:\n",
    "            print('Batch number ' + str(batch_num))\n",
    "\n",
    "        ratings = batch.ratings \n",
    "        users = batch.users-1 \n",
    "        jokes = batch.jokes-1\n",
    "\n",
    "        optimizer.zero_grad()\n",
    "        loss = neg_log_likelihood_biases(sigma2, U, V, a, b, g, users, jokes, ratings)\n",
    "        loss.backward()\n",
    "        optimizer.step()\n",
    "        \n",
    "print('Global bias: ' + str(g.data.numpy()[0]))"
   ]
  },
  {
   "cell_type": "code",
   "execution_count": null,
   "metadata": {
    "collapsed": true
   },
   "outputs": [],
   "source": []
  },
  {
   "cell_type": "code",
   "execution_count": null,
   "metadata": {
    "collapsed": true
   },
   "outputs": [],
   "source": [
    "# Rank jokes and get biases\n",
    "jokeID_bias = np.concatenate([np.arange(1, num_jokes+1).reshape(num_jokes, -1), b.data.numpy()], axis = 1)\n",
    "jokeID_bias[jokeID_bias[:, 1].argsort()]"
   ]
  },
  {
   "cell_type": "markdown",
   "metadata": {},
   "source": [
    "### Problem 3"
   ]
  },
  {
   "cell_type": "code",
   "execution_count": 28,
   "metadata": {
    "collapsed": true
   },
   "outputs": [],
   "source": [
    "jokes_raw = []\n",
    "for line in open('jester_items.clean.dat', 'r'):\n",
    "    if len(line) > 5:\n",
    "        jokes_raw.append(line.rstrip())"
   ]
  },
  {
   "cell_type": "code",
   "execution_count": 252,
   "metadata": {},
   "outputs": [
    {
     "data": {
      "text/plain": [
       "(150, 163)"
      ]
     },
     "execution_count": 252,
     "metadata": {},
     "output_type": "execute_result"
    }
   ],
   "source": [
    "raw_transform = CountVectorizer(input='content', encoding='utf-8', decode_error='strict', strip_accents=None, \\\n",
    "                                                                     lowercase=True, preprocessor=None, tokenizer=None, stop_words=None, \\\n",
    "                                                                     ngram_range=(1, 1), analyzer='word', max_df=1.0, min_df=0.045, max_features=None, \\\n",
    "                                                                     vocabulary=None, binary=False)\n",
    "\n",
    "joke_feature_vectors = raw_transform.fit_transform(jokes_raw).todense()\n",
    "joke_feature_vectors = np.concatenate([np.ones(num_jokes).reshape(num_jokes, -1), joke_feature_vectors], axis = 1)\n",
    "joke_feature_vectors.shape"
   ]
  },
  {
   "cell_type": "markdown",
   "metadata": {},
   "source": [
    "### Problem 3 Functions"
   ]
  },
  {
   "cell_type": "code",
   "execution_count": 261,
   "metadata": {},
   "outputs": [],
   "source": [
    "def neg_log_posterior(w, x, sigma, b, y, jokes):\n",
    "    features = x[jokes.data.numpy()]\n",
    "    linear = features.dot(w.data.numpy().reshape(w.size()[0], -1))\n",
    "    \n",
    "    lower_cut = b[y.data.numpy() - 1].reshape(y.size()[0], -1)\n",
    "    upper_cut = lower_cut + 2\n",
    "    np.place(upper_cut, upper_cut == 6, 10.0)\n",
    "    np.place(lower_cut, lower_cut == -4, -10.0)\n",
    "    \n",
    "    lower_cdf_input = (lower_cut - linear)/sigma.data.numpy()\n",
    "    upper_cdf_input = (upper_cut - linear)/sigma.data.numpy()\n",
    "    \n",
    "    lower_cdf = norm.cdf(lower_cdf_input, loc=0, scale=1)\n",
    "    upper_cdf = norm.cdf(upper_cdf_input, loc=0, scale=1)\n",
    "\n",
    "    max1 = np.log(1 - np.exp(np.log(lower_cdf) - np.log(upper_cdf))) + np.log(upper_cdf)\n",
    "    max2 = np.log(1 - np.exp(np.log(1 - upper_cdf) - np.log(1 - lower_cdf))) + np.log(1 - lower_cdf)\n",
    "    max_matrix = np.concatenate([max1, max2], axis = 1)\n",
    "    max_log = Variable(torch.from_numpy(np.amax(max_matrix, axis = 1)).double())\n",
    "\n",
    "    return torch.sum(w**2) - torch.sum(max_log)\n",
    "\n",
    "\n",
    "\n",
    "def neg_log_gauss_likelihood(w, x, y, sigma):\n",
    "    return 0.5 * y.size()[0] * torch.log(2.0 * np.pi * (sigma**2)) + 0.5 * sigma**(-2) * torch.sum((y.double() - torch.mm(Variable(torch.from_numpy(np.array(x)).double()), w))**2)\n",
    "\n",
    "\n",
    "\n",
    "def rmse2(w, x, sigma, b, data_iter):\n",
    "    Xw = x.dot(w.data.numpy().reshape(w.size()[0], -1))\n",
    "    \n",
    "    cdf = np.ones((x.shape[0], len(b) + 1))\n",
    "    for i in range(cdf.shape[1]):\n",
    "        if i == 0:\n",
    "            cdf[:, i] = norm.cdf((cdf[:, i].reshape(cdf.shape[0], -1) * -10.0 - Xw)/sigma.data.numpy()).reshape(cdf.shape[0], )\n",
    "        elif i == (cdf.shape[1] - 1):\n",
    "            cdf[:, i] = norm.cdf((cdf[:, i].reshape(cdf.shape[0], -1) * 10.0 - Xw)/sigma.data.numpy()).reshape(cdf.shape[0], )\n",
    "        else:\n",
    "            cdf[:, i] = norm.cdf((cdf[:, i].reshape(cdf.shape[0], -1) * b[i] - Xw)/sigma.data.numpy()).reshape(cdf.shape[0], )\n",
    "            \n",
    "    prob_matrix = np.zeros((x.shape[0], len(b)))\n",
    "    for i in range(prob_matrix.shape[1]):\n",
    "        prob_matrix[:, i] = cdf[:, i+1] - cdf[:, i]\n",
    "        \n",
    "    possible_ratings = (np.arange(5) + 1).reshape(5, -1)\n",
    "    \n",
    "    expectation_by_joke = prob_matrix.dot(possible_ratings)\n",
    "    \n",
    "    squared_error = 0.0\n",
    "    num_ratings = 0\n",
    "    for batch in data_iter:\n",
    "        ratings = batch.ratings-1\n",
    "        users = batch.users-1 \n",
    "        jokes = batch.jokes-1\n",
    "            \n",
    "        \n",
    "        num_ratings += ratings.data.numpy().shape[0]\n",
    "        squared_error += np.sum((expectation_by_joke[jokes.data.numpy()] - ratings.data.numpy().reshape(ratings.size()[0], -1))**2)\n",
    "        \n",
    "    return (squared_error/num_ratings)**0.5"
   ]
  },
  {
   "cell_type": "markdown",
   "metadata": {},
   "source": [
    "### Problem 3.4"
   ]
  },
  {
   "cell_type": "code",
   "execution_count": 273,
   "metadata": {
    "scrolled": true
   },
   "outputs": [
    {
     "name": "stdout",
     "output_type": "stream",
     "text": [
      "Epoch 0\n",
      "Batch number 100\n",
      "Batch number 200\n",
      "Batch number 300\n",
      "Batch number 400\n",
      "Batch number 500\n",
      "Test RMSE: 1.30168070677\n"
     ]
    }
   ],
   "source": [
    "num_epochs = 1\n",
    "b = np.array([-4, -2, 0, 2, 4])\n",
    "#w = Variable(torch.from_numpy(0.1 * np.random.randn(joke_feature_vectors.shape[1]).reshape(joke_feature_vectors.shape[1], -1)), requires_grad = True)\n",
    "#sigma = Variable(5 * torch.from_numpy(np.random.rand(1)), requires_grad = True)\n",
    "#optimizer = torch.optim.Adam([w, sigma], lr = 0.005)\n",
    "\n",
    "for epoch in range(num_epochs):\n",
    "    print('Epoch ' + str(epoch))\n",
    "    batch_num = 0\n",
    "    for batch in train_iter:\n",
    "        batch_num += 1\n",
    "        if batch_num % 100 == 0:\n",
    "            print('Batch number ' + str(batch_num))\n",
    "\n",
    "        ratings = batch.ratings-1 \n",
    "        users = batch.users-1 \n",
    "        jokes = batch.jokes-1\n",
    "\n",
    "        optimizer.zero_grad()\n",
    "        loss = neg_log_posterior(w, joke_feature_vectors, sigma, b, ratings, jokes)\n",
    "        loss.backward()\n",
    "        #print(loss.data[0])\n",
    "        optimizer.step()\n",
    "\n",
    "print('Test RMSE: ' + str(rmse2(w, joke_feature_vectors, sigma, b, test_iter)))"
   ]
  },
  {
   "cell_type": "code",
   "execution_count": 274,
   "metadata": {},
   "outputs": [
    {
     "data": {
      "text/plain": [
       "Variable containing:\n",
       " 6.5794\n",
       "[torch.DoubleTensor of size 1]"
      ]
     },
     "execution_count": 274,
     "metadata": {},
     "output_type": "execute_result"
    }
   ],
   "source": [
    "sigma**2"
   ]
  },
  {
   "cell_type": "code",
   "execution_count": 127,
   "metadata": {
    "collapsed": true
   },
   "outputs": [
    {
     "data": {
      "text/plain": [
       "Variable containing:\n",
       " 2.1116e-28\n",
       "-1.0308e-16\n",
       "-1.4834e-29\n",
       " 2.1508e-28\n",
       "-1.3963e-30\n",
       "-5.6252e-23\n",
       "-2.8840e-15\n",
       "-5.4405e-28\n",
       " 2.6699e-28\n",
       "-6.0757e-29\n",
       " 9.5374e-25\n",
       " 4.2562e-25\n",
       " 3.2805e-27\n",
       "-1.1288e-28\n",
       "-1.0367e-28\n",
       " 5.3538e-27\n",
       " 7.5423e-28\n",
       " 6.8906e-27\n",
       " 2.4212e-28\n",
       " 1.6025e-27\n",
       " 1.9136e-27\n",
       " 6.9395e-11\n",
       "-5.3347e-23\n",
       " 1.2013e-27\n",
       " 8.2377e-30\n",
       "-4.0415e-27\n",
       "-1.2174e-27\n",
       " 9.4410e-28\n",
       "-3.0547e-30\n",
       "-1.5727e-27\n",
       " 8.3317e-08\n",
       "-2.2609e-28\n",
       " 8.8179e-26\n",
       " 5.0226e-29\n",
       " 1.1196e-27\n",
       "-1.3341e-28\n",
       "-1.5650e-28\n",
       "-4.4472e-23\n",
       "-4.3138e-09\n",
       " 1.1640e-26\n",
       "-7.3984e-29\n",
       " 7.1223e-27\n",
       "-2.7051e-27\n",
       "-8.1352e-26\n",
       "-8.1057e-27\n",
       " 4.8437e-28\n",
       "-6.2097e-29\n",
       "-1.0371e-10\n",
       " 6.1987e-28\n",
       "-3.4184e-18\n",
       "-1.1628e-27\n",
       " 1.4036e-28\n",
       " 1.1711e-27\n",
       "-1.7286e-07\n",
       "-1.8521e-29\n",
       " 2.9590e-28\n",
       " 3.5942e-15\n",
       "-2.8348e-19\n",
       "-3.3798e-29\n",
       " 1.6894e-18\n",
       " 9.8680e-21\n",
       "-7.4688e-31\n",
       "-5.3513e-28\n",
       "-7.4957e-28\n",
       " 1.9887e-29\n",
       "-1.8535e-23\n",
       "-2.4486e-24\n",
       "-2.8668e-28\n",
       " 1.8600e-23\n",
       "-5.2279e-21\n",
       " 2.2171e-24\n",
       "-2.0490e-29\n",
       "-1.0312e-24\n",
       " 1.3340e-28\n",
       "-1.0207e-21\n",
       " 2.7474e-27\n",
       " 2.8038e-27\n",
       " 2.7497e-09\n",
       "-1.6223e-26\n",
       " 3.5194e-28\n",
       "-8.9755e-17\n",
       " 3.5600e-29\n",
       " 2.4333e-28\n",
       "-1.0462e-27\n",
       " 3.7448e-22\n",
       "-5.3546e-21\n",
       " 8.5839e-28\n",
       " 2.6583e-28\n",
       "-3.4819e-28\n",
       "-2.9454e-29\n",
       "-3.1454e-28\n",
       "-9.0826e-26\n",
       "-3.6560e-28\n",
       " 1.1285e-28\n",
       "-2.3598e-28\n",
       "-1.4975e-26\n",
       "-1.1217e-27\n",
       "-2.4083e-28\n",
       "-1.7905e-23\n",
       " 2.3561e-25\n",
       " 4.0022e-08\n",
       "-2.0972e-29\n",
       " 1.7625e-23\n",
       "-6.6567e-29\n",
       "-3.1613e-28\n",
       "-9.2698e-11\n",
       " 1.0426e-10\n",
       " 2.9313e-24\n",
       "-5.4867e-23\n",
       " 6.7893e-27\n",
       "-2.0910e-27\n",
       "-1.5861e-28\n",
       "-1.9627e-25\n",
       "-4.8640e-26\n",
       " 2.5109e-20\n",
       "-2.8539e-27\n",
       " 7.3039e-28\n",
       " 3.3424e-28\n",
       "-4.4586e-25\n",
       "-8.8696e-22\n",
       " 1.2661e-28\n",
       " 4.0666e-30\n",
       " 1.2339e-18\n",
       "-8.9456e-29\n",
       "-3.7486e-28\n",
       "-3.6455e-27\n",
       "-7.7846e-28\n",
       " 1.0433e-24\n",
       " 1.2583e-27\n",
       "-5.5791e-29\n",
       " 8.2660e-30\n",
       "-2.5144e-17\n",
       "-6.1850e-30\n",
       " 6.7540e-27\n",
       " 1.3355e-08\n",
       "-1.1355e-29\n",
       " 5.9214e-27\n",
       " 3.3451e-27\n",
       " 3.0260e-09\n",
       "-1.1990e-26\n",
       " 7.5970e-22\n",
       "-2.2774e-13\n",
       " 2.0166e-24\n",
       "-5.7185e-28\n",
       "-1.6015e-28\n",
       " 1.0031e-25\n",
       " 3.8563e-09\n",
       " 3.8764e-26\n",
       "-4.2684e-18\n",
       " 5.8681e-29\n",
       " 5.4776e-16\n",
       " 4.1298e-27\n",
       " 6.3310e-24\n",
       "-4.3561e-29\n",
       "-1.0799e-28\n",
       " 4.7038e-28\n",
       "-7.5122e-26\n",
       " 3.5160e-28\n",
       " 3.4845e-28\n",
       "-3.5321e-20\n",
       "-8.1774e-26\n",
       "-3.5277e-29\n",
       "[torch.DoubleTensor of size 162x1]"
      ]
     },
     "execution_count": 127,
     "metadata": {},
     "output_type": "execute_result"
    }
   ],
   "source": [
    "w"
   ]
  },
  {
   "cell_type": "markdown",
   "metadata": {},
   "source": [
    "### Problem 3.5"
   ]
  },
  {
   "cell_type": "code",
   "execution_count": 194,
   "metadata": {
    "collapsed": true
   },
   "outputs": [
    {
     "name": "stdout",
     "output_type": "stream",
     "text": [
      "Epoch 0\n",
      "Batch number 100\n",
      "Batch number 200\n",
      "Batch number 300\n",
      "Batch number 400\n",
      "Batch number 500\n",
      "Test RMSE: 1.31696375464\n"
     ]
    }
   ],
   "source": [
    "num_epochs = 5\n",
    "b = np.array([-4, -2, 0, 2, 4])\n",
    "w = Variable(torch.from_numpy(0.1 * np.random.randn(joke_feature_vectors.shape[1]).reshape(joke_feature_vectors.shape[1], -1)), requires_grad = True)\n",
    "sigma = Variable(torch.from_numpy(np.array(np.random.rand(1))), requires_grad = True)\n",
    "optimizer = torch.optim.Adam([w, sigma], lr = 0.05)\n",
    "\n",
    "for epoch in range(num_epochs):\n",
    "    print('Epoch ' + str(epoch))\n",
    "    batch_num = 0\n",
    "    for batch in train_iter:\n",
    "        batch_num += 1\n",
    "        if batch_num % 100 == 0:\n",
    "            print('Batch number ' + str(batch_num))\n",
    "\n",
    "        ratings = batch.ratings-1 \n",
    "        users = batch.users-1\n",
    "        jokes = batch.jokes-1\n",
    "\n",
    "        optimizer.zero_grad()\n",
    "        loss = neg_log_gauss_likelihood(w, joke_feature_vectors, ratings, sigma)\n",
    "        loss.backward()\n",
    "        #print(loss.data[0])\n",
    "        optimizer.step()\n",
    "\n",
    "print('Test RMSE: ' + str(rmse2(w, joke_feature_vectors, sigma, b, test_iter)))"
   ]
  }
 ],
 "metadata": {
  "kernelspec": {
   "display_name": "Python 3.5.3",
   "language": "python",
   "name": "py35"
  },
  "language_info": {
   "codemirror_mode": {
    "name": "ipython",
    "version": 3
   },
   "file_extension": ".py",
   "mimetype": "text/x-python",
   "name": "python",
   "nbconvert_exporter": "python",
   "pygments_lexer": "ipython3",
   "version": "3.5.4"
  }
 },
 "nbformat": 4,
 "nbformat_minor": 2
}
