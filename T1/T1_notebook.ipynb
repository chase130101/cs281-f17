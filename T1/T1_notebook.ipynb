{
 "cells": [
  {
   "cell_type": "code",
   "execution_count": 2,
   "metadata": {
    "collapsed": true
   },
   "outputs": [],
   "source": [
    "import numpy as np\n",
    "import sklearn.preprocessing\n",
    "import time\n",
    "from matplotlib import pyplot as plt\n",
    "import torch\n",
    "from torch import Tensor\n",
    "from torch.autograd import Variable\n",
    "\n",
    "# import jtplot\n",
    "from jupyterthemes import jtplot\n",
    "\n",
    "# you can select an alternative theme's plot style by name\n",
    "# oceans16 | grade3 | chesterish | onedork | monokai | solarizedl\n",
    "jtplot.style('onedork')\n",
    "\n",
    "# set \"context\" (paper, notebook, talk, or poster)\n",
    "# & font scale (scalar applied to labels, legend, etc.)\n",
    "jtplot.style('grade3', context='paper', fscale=1.4)\n",
    "\n",
    "# turn on X- and Y-axis tick marks (default=False)\n",
    "# and turn off the axis grid lines (default=True)\n",
    "jtplot.style(ticks=True, grid=False)\n",
    "\n",
    "# set the default figure size\n",
    "# x (length), y (height)\n",
    "jtplot.figsize(x=6., y=5.)\n",
    "\n",
    "# or just adjust the aspect ratio\n",
    "# new_length = length * aspect\n",
    "jtplot.figsize(aspect=1.2)"
   ]
  },
  {
   "cell_type": "markdown",
   "metadata": {},
   "source": [
    "### Data Preprocessing"
   ]
  },
  {
   "cell_type": "code",
   "execution_count": 3,
   "metadata": {
    "collapsed": true
   },
   "outputs": [],
   "source": [
    "data = np.loadtxt('CASP.csv', delimiter = ',', skiprows = 1)\n",
    "\n",
    "X = data[:, 1:]\n",
    "y = data[:,0]\n",
    "\n",
    "X_train = X[:int(len(X)*0.9), :]\n",
    "X_test = X[int(len(X)*0.9):, :]\n",
    "y_train = y[:int(len(y)*0.9)]\n",
    "y_test = y[int(len(y)*0.9):]\n",
    "\n",
    "normalizer = sklearn.preprocessing.StandardScaler(copy = True, with_mean = True, with_std = True)\n",
    "X_train = normalizer.fit_transform(X_train)\n",
    "X_test = normalizer.transform(X_test)\n",
    "\n",
    "X_train = np.concatenate([np.ones(len(X_train)).reshape(len(X_train), 1), X_train], axis = 1)\n",
    "X_test = np.concatenate([np.ones(len(X_test)).reshape(len(X_test), 1), X_test], axis = 1)"
   ]
  },
  {
   "cell_type": "markdown",
   "metadata": {},
   "source": [
    "### Problem 4"
   ]
  },
  {
   "cell_type": "code",
   "execution_count": 4,
   "metadata": {},
   "outputs": [
    {
     "name": "stdout",
     "output_type": "stream",
     "text": [
      "w_map with QR = [ 7.74153395  5.55782079  2.25190765  1.07880135 -5.91177796 -1.73480336\n",
      " -1.63875478 -0.26610556  0.81781409 -0.65913397]\n",
      "\n",
      "Normalized test set RMSE with QR = 5.20880460745\n"
     ]
    }
   ],
   "source": [
    "# function that returns ridge regression weights\n",
    "# takes as input: normalized X matrix with column of ones (X_train), vector of targets (y_train), and regularization parameter > 0 (reg_param)\n",
    "# fitting procedure uses QR decomposition (see section 7.5.2 in Murphy text; in equation 7.43, Q should be Q^T)\n",
    "def ridge_weights(X_train, y_train, reg_param):\n",
    "    \n",
    "    reg_param_matrix = np.zeros((X_train.shape[1], X_train.shape[1]))\n",
    "    np.fill_diagonal(reg_param_matrix, np.sqrt(reg_param))\n",
    "\n",
    "    X_train_tilde = np.concatenate([X_train, reg_param_matrix], axis = 0)\n",
    "    y_train_tilde = np.concatenate([y_train, np.zeros(X_train.shape[1])], axis = 0)\n",
    "\n",
    "    qr = np.linalg.qr(X_train_tilde, mode = 'reduced')\n",
    "\n",
    "    return np.dot(np.dot(np.linalg.inv(qr[1]), qr[0].transpose()), y_train_tilde)\n",
    "\n",
    "# function to calculate rmse\n",
    "def rmse(X, Y, w):\n",
    "    return np.sqrt(np.sum(np.square(np.dot(X, w) - Y))/len(Y))\n",
    "    \n",
    "\n",
    "# computing the regularization parameter to use in ridge_weights function\n",
    "sigma2 = 1.0\n",
    "tau2 = 0.1\n",
    "my_lambda = sigma2/tau2\n",
    "\n",
    "# getting ridge regression weights for CASP training data \n",
    "w_map = ridge_weights(X_train, y_train, my_lambda)\n",
    "\n",
    "# computing rmse and printing w_map and rmse\n",
    "print('w_map with QR = ' + str(w_map))\n",
    "print()\n",
    "print('Normalized test set RMSE with QR = ' + str(rmse(X_test, y_test, w_map)))"
   ]
  },
  {
   "cell_type": "markdown",
   "metadata": {},
   "source": [
    "### Problem 5"
   ]
  },
  {
   "cell_type": "code",
   "execution_count": 5,
   "metadata": {},
   "outputs": [
    {
     "name": "stdout",
     "output_type": "stream",
     "text": [
      "w_map with L-BFGS = [ 7.74153376  5.55782127  2.25190735  1.07880151 -5.91177797 -1.73480356\n",
      " -1.63875508 -0.2661055   0.81781411 -0.65913397]\n",
      "\n",
      "Normalized test set RMSE with L-BFGS = 5.20880461163\n"
     ]
    }
   ],
   "source": [
    "# initializing weights setting optimizer to use L-BFGS\n",
    "weights = Variable(Tensor(np.zeros(10)), requires_grad = True)\n",
    "optimizer = torch.optim.LBFGS([weights])\n",
    "\n",
    "# function to calculate negative log posterior\n",
    "def neg_log_posterior(X, Y, sigma2, tau2, w):\n",
    "    return ((Y - X.dot(w)).T.dot(Y - X.dot(w)))/(2*sigma2) + (w.T.dot(w))/(2*tau2)\n",
    "\n",
    "# function to compute gradient of negative log posterior with respect to w\n",
    "def grad_neg_log_posterior_wrt_w(X, Y, sigma2, tau2, w):\n",
    "    return -(X.T.dot(Y - X.dot(w)))/sigma2 + w/tau2\n",
    "\n",
    "# function used to optimize in stepwise fashion\n",
    "def black_box_1():\n",
    "    weights_data = weights.data.numpy()\n",
    "    weights.grad = Variable(Tensor(grad_neg_log_posterior_wrt_w(X_train, y_train, sigma2, tau2, weights_data)))\n",
    "    return neg_log_posterior(X_train, y_train, sigma2, tau2, weights_data)\n",
    "\n",
    "# running optimizer for 100 iterations\n",
    "for i in range(100):\n",
    "    optimizer.step(black_box_1)\n",
    "\n",
    "# computing rmse and printing w_map and rmse\n",
    "print('w_map with L-BFGS = ' + str(weights.data.numpy()))\n",
    "print()\n",
    "print('Normalized test set RMSE with L-BFGS = ' + str(rmse(X_test, y_test, weights.data.numpy())))"
   ]
  },
  {
   "cell_type": "markdown",
   "metadata": {},
   "source": [
    "### Problem 6"
   ]
  },
  {
   "cell_type": "code",
   "execution_count": 20,
   "metadata": {},
   "outputs": [
    {
     "name": "stderr",
     "output_type": "stream",
     "text": [
      "C:\\Users\\Christopher\\Anaconda3\\envs\\py35\\lib\\site-packages\\matplotlib\\figure.py:1743: UserWarning: This figure includes Axes that are not compatible with tight_layout, so its results might be incorrect.\n",
      "  warnings.warn(\"This figure includes Axes that are not \"\n"
     ]
    },
    {
     "data": {
      "image/png": "[encoded data removed]",
      "text/plain": [
       "<matplotlib.figure.Figure at 0x1dfd31ec668>"
      ]
     },
     "metadata": {},
     "output_type": "display_data"
    },
    {
     "name": "stdout",
     "output_type": "stream",
     "text": [
      "Test RMSE using QR when d = 100: 5.01647322197\n",
      "Test RMSE using QR when d = 200: 4.74796602188\n",
      "Test RMSE using QR when d = 400: 4.5127248348\n",
      "Test RMSE using QR when d = 600: 4.48042136248\n",
      "Test RMSE using L-BFGS when d = 100: 5.01656834273\n",
      "Test RMSE using L-BFGS when d = 200: 4.74796605448\n",
      "Test RMSE using L-BFGS when d = 400: 4.5255579894\n",
      "Test RMSE using L-BFGS when d = 600: 4.67708251057\n"
     ]
    }
   ],
   "source": [
    "np.random.seed(10000)\n",
    "# function to map original features into d-dimensional space with cos(A^Tx + b) where each column in A is MVN and b is a vector of uniform rvs\n",
    "def mapping(X_train, X_test, num_functions):\n",
    "    AT = np.random.multivariate_normal(np.zeros(X_train.shape[1]-1), np.identity(X_train.shape[1]-1), size = (num_functions)).T\n",
    "    Xtrain_AT = X_train[:, 1:].dot(AT)\n",
    "    Xtest_AT = X_test[:, 1:].dot(AT)\n",
    "    unif = np.random.uniform(0, 2*np.pi, size = (num_functions))\n",
    "    Xtrain_AT = np.add(Xtrain_AT, unif)\n",
    "    Xtest_AT = np.add(Xtest_AT, unif)\n",
    "    \n",
    "    # adding column of ones for bias parameter\n",
    "    Xtrain_AT_cos_ones = np.concatenate([np.ones(len(Xtrain_AT)).reshape(len(Xtrain_AT), 1), np.cos(Xtrain_AT)], axis = 1)\n",
    "    Xtest_AT_cos_ones = np.concatenate([np.ones(len(Xtest_AT)).reshape(len(Xtest_AT), 1), np.cos(Xtest_AT)], axis = 1)\n",
    "\n",
    "    return (Xtrain_AT_cos_ones, Xtest_AT_cos_ones)\n",
    "\n",
    "# function used to optimize in stepwise fashion\n",
    "def black_box_2():\n",
    "    weights_data = weights.data.numpy()\n",
    "    weights.grad = Variable(Tensor(grad_neg_log_posterior_wrt_w(mapped_features[0], y_train, sigma2, tau2, weights_data)))\n",
    "    return neg_log_posterior(mapped_features[0], y_train, sigma2, tau2, weights_data)\n",
    "\n",
    "\n",
    "rmse_QR_list = []\n",
    "rmse_LBFGS_list = []\n",
    "time_QR_list = []\n",
    "time_LBFGS_list = []\n",
    "for i in [100, 200, 400, 600]:\n",
    "    # mapping features into i-dimensional space\n",
    "    mapped_features = mapping(X_train, X_test, i)\n",
    "    \n",
    "    for j in [0, 1]:\n",
    "        \n",
    "        # using QR\n",
    "        if j == 0:\n",
    "            # timing how long QR takes to fit to transformed feature set\n",
    "            time1 = time.time()\n",
    "            w_map_mapped_features = ridge_weights(mapped_features[0], y_train, my_lambda)\n",
    "            time2 = time.time()\n",
    "            \n",
    "            time_QR_list.append(time2 - time1)\n",
    "            rmse_mapped_features = rmse(mapped_features[1], y_test, w_map_mapped_features) # computing rmse of model test set\n",
    "            rmse_QR_list.append(rmse_mapped_features)\n",
    "        \n",
    "        # using L-BFGS\n",
    "        elif j == 1:\n",
    "            weights = Variable(Tensor(np.zeros(i + 1)), requires_grad = True)\n",
    "            # playing with optimization parameters here\n",
    "            optimizer = torch.optim.LBFGS([weights], lr = 0.3, max_iter = 10000000000000, tolerance_grad = 10**(-5), tolerance_change = 10**(-9)) \n",
    "            \n",
    "            # timing how long L-BFGS takes to fit to transformed feature set\n",
    "            time3 = time.time()\n",
    "            optimizer.step(black_box_2)\n",
    "            time4 = time.time()\n",
    "            \n",
    "            time_LBFGS_list.append(time4 - time3)\n",
    "            rmse_mapped_features = rmse(mapped_features[1], y_test, weights.data.numpy()) # computing rmse of model test set\n",
    "            rmse_LBFGS_list.append(rmse_mapped_features)\n",
    "            \n",
    "# plotting rmse vs. time to fit for each (d, method) pair           \n",
    "plt.plot(time_QR_list, rmse_QR_list, 'ro')\n",
    "plt.plot(time_LBFGS_list, rmse_LBFGS_list, 'bo')\n",
    "plt.xlabel('Time to Fit (seconds)')\n",
    "plt.ylabel('RMSE')\n",
    "plt.title('RMSE and Time to Fit Using QR and L-BFGS on\\n4 Feature Mappings Varying by Dimension\\nFrom left to right, d = 100, 200, 400, 600')\n",
    "plt.legend(['QR', 'L-BFGS'])\n",
    "plt.show()\n",
    "\n",
    "# printing rmse results for each (d, method) pair\n",
    "print('Test RMSE using QR when d = 100: ' + str(rmse_QR_list[0]))\n",
    "print('Test RMSE using QR when d = 200: ' + str(rmse_QR_list[1]))\n",
    "print('Test RMSE using QR when d = 400: ' + str(rmse_QR_list[2]))\n",
    "print('Test RMSE using QR when d = 600: ' + str(rmse_QR_list[3]))\n",
    "print('Test RMSE using L-BFGS when d = 100: ' + str(rmse_LBFGS_list[0]))\n",
    "print('Test RMSE using L-BFGS when d = 200: ' + str(rmse_LBFGS_list[1]))\n",
    "print('Test RMSE using L-BFGS when d = 400: ' + str(rmse_LBFGS_list[2]))\n",
    "print('Test RMSE using L-BFGS when d = 600: ' + str(rmse_LBFGS_list[3]))"
   ]
  }
 ],
 "metadata": {
  "kernelspec": {
   "display_name": "Python 3.5.3",
   "language": "python",
   "name": "py35"
  },
  "language_info": {
   "codemirror_mode": {
    "name": "ipython",
    "version": 3
   },
   "file_extension": ".py",
   "mimetype": "text/x-python",
   "name": "python",
   "nbconvert_exporter": "python",
   "pygments_lexer": "ipython3",
   "version": "3.5.4"
  }
 },
 "nbformat": 4,
 "nbformat_minor": 2
}
